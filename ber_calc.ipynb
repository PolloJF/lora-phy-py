{
 "cells": [
  {
   "cell_type": "code",
   "execution_count": null,
   "id": "14b32236-c209-490f-bf32-03f5ca338dbb",
   "metadata": {},
   "outputs": [],
   "source": [
    "import matplotlib.pyplot as plt\n",
    "import numpy as np\n",
    "import random\n",
    "from modulator import Modulator\n",
    "from demodulator import Demodulator"
   ]
  },
  {
   "cell_type": "code",
   "execution_count": null,
   "id": "e2a73d79",
   "metadata": {},
   "outputs": [],
   "source": [
    "def main(index: int):\n",
    "    global berResult\n",
    "    global noiseSNR\n",
    "    global noiseResult\n",
    "    global noiseTests\n",
    "    global noneResult\n",
    "\n",
    "    # LoRa Parameters\n",
    "    Fs = 48000  # Sample rate [samples/s]\n",
    "    BW = Fs // 2  # Bandwidth [Hz]\n",
    "    fa = 0  # Start frequency [Hz]\n",
    "    fb = BW  # Stop frequency [Hz]\n",
    "    SF = 4  # Spread factor == Bits per symbol\n",
    "    samples = 16384  # Number of samples\n",
    "\n",
    "    # Modulator and demodulator\n",
    "    mod = Modulator(samples, Fs, fa, fb, SF)\n",
    "    demod = Demodulator(samples, Fs, fa, fb, SF)\n",
    "\n",
    "    # Preamble and Data\n",
    "    value = random.randint(0, 2**SF - 1)\n",
    "    y_preamble = mod.getSignal([value])\n",
    "\n",
    "    # Generate white noise\n",
    "    noise_preamble = np.random.normal(\n",
    "        0, noiseTests[index]+0.001, size=len(y_preamble)\n",
    "    )\n",
    "\n",
    "    # Calculate signal, noise power and SNR\n",
    "    timeLength = 1 / len(y_preamble)\n",
    "    sign = 10 * np.log10(np.sum(y_preamble**2) * timeLength)\n",
    "    noise = 10 * np.log10(np.sum(noise_preamble**2) * timeLength)\n",
    "    # print(\n",
    "    #     \"Noise Power: %.3f - Signal Power: %.3f - SNR: %.3f\"\n",
    "    #     % (noise, sign, sign - noise),\n",
    "    # )\n",
    "    noiseSNR[index] += sign - noise\n",
    "\n",
    "    # Add noise\n",
    "    y_preamble += noise_preamble\n",
    "\n",
    "    # Separate signal in chunks of size \"samples\"\n",
    "    leng = int(np.floor(len(y_preamble) / samples))\n",
    "    for index in range(leng):\n",
    "        result = demod.detectSymbol(\n",
    "            y_preamble[index * samples : samples * (index + 1)]\n",
    "        )\n",
    "        if result is not None:\n",
    "            # Calculate Hamming distance\n",
    "            r = (1 << np.arange(8))[:, None]\n",
    "            ber = np.count_nonzero((result & r) != (value & r)) / SF\n",
    "            # Add to BER result variable\n",
    "            berResult += ber\n",
    "        else:\n",
    "            noneResult += 1\n",
    "            berResult += 1.0\n"
   ]
  },
  {
   "cell_type": "code",
   "execution_count": null,
   "id": "ab577091",
   "metadata": {},
   "outputs": [],
   "source": [
    "# Number of tests\n",
    "testN = 10\n",
    "# BER Results\n",
    "berResult = 0.0\n",
    "noneResult = 0\n",
    "\n",
    "# Noise setup\n",
    "noiseTests = np.arange(16,17)\n",
    "noiseSNR = [0] * len(noiseTests)\n",
    "noiseResult = [0] * len(noiseTests)\n",
    "\n",
    "# Run number of tests\n",
    "for index in range(len(noiseTests)):\n",
    "    berResult = 0.0\n",
    "    noneResult = 0\n",
    "    print(\"%3d\" % (index), end=\" - \")\n",
    "    for i in range(testN):\n",
    "        main(index)\n",
    "    noiseResult[index] = berResult / testN * 100.0\n",
    "    noiseSNR[index] = noiseSNR[index] / testN\n",
    "    # Print results\n",
    "    print(\n",
    "        \"SNR: %.4f dB, BER result: %.4f%%, None result: %d\"\n",
    "        % (noiseSNR[index], noiseResult[index], noneResult),\n",
    "    )\n",
    "\n",
    "plt.plot(noiseSNR, noiseResult)\n"
   ]
  }
 ],
 "metadata": {
  "kernelspec": {
   "display_name": "Python 3.8.10 64-bit",
   "language": "python",
   "name": "python3"
  },
  "language_info": {
   "codemirror_mode": {
    "name": "ipython",
    "version": 3
   },
   "file_extension": ".py",
   "mimetype": "text/x-python",
   "name": "python",
   "nbconvert_exporter": "python",
   "pygments_lexer": "ipython3",
   "version": "3.8.10"
  },
  "vscode": {
   "interpreter": {
    "hash": "31f2aee4e71d21fbe5cf8b01ff0e069b9275f58929596ceb00d14d90e3e16cd6"
   }
  }
 },
 "nbformat": 4,
 "nbformat_minor": 5
}
